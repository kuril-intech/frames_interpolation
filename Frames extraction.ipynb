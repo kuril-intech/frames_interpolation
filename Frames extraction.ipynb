{
 "cells": [
  {
   "cell_type": "code",
   "execution_count": 1,
   "metadata": {},
   "outputs": [],
   "source": [
    "import os \n",
    "import random\n",
    "import shutil\n",
    "import pathlib \n",
    "import cv2\n",
    "from tqdm import tqdm\n",
    "from pathlib import Path\n",
    "import argparse"
   ]
  },
  {
   "cell_type": "code",
   "execution_count": 50,
   "metadata": {},
   "outputs": [],
   "source": [
    "def extract_frames(input_directory, output_directory, width = 360, height = 360):\n",
    "    video_extension = {'.mov', '.MP4', '.m4v', '.MOV', '.mp4'}\n",
    "    for video_file in input_directory.glob(\"*\"):\n",
    "        if video_file.suffix in video_extension:\n",
    "            output_file = output_directory / video_file.name\n",
    "            Path(output_file).mkdir(parents = True, exist_ok = True)\n",
    "            video_cap = cv2.VideoCapture(str(video_file))\n",
    "            success, image = video_cap.read()\n",
    "            count = 0\n",
    "            while success:\n",
    "                image = cv2.resize(image, (width, height))\n",
    "                cv2.imwrite(\"{}/frame%04d.jpg\".format(output_file) % count, image)  # save frame as JPEG file\n",
    "                success, image = video_cap.read()\n",
    "                count += 1\n",
    "\n",
    "def batch_frames(input_directory, output_directory):\n",
    "    for folder in input_directory.glob(\"**\"):\n",
    "        files = sorted(file for file in folder.glob(\"*\") if file.is_file())\n",
    "        total = []\n",
    "        folder_counter = 0\n",
    "        for file in files:\n",
    "            total.append(file)\n",
    "            if len(total) >= 12:\n",
    "                Path(\"{}/{}\".format(output_directory, folder_counter)).mkdir(parents = True, exist_ok = True)\n",
    "                for video in total:\n",
    "                    shutil.move(str(video), \"{}/{}/{}\".format(output_directory, folder_counter, video.name))\n",
    "                total = []\n",
    "                folder_counter += 1"
   ]
  },
  {
   "cell_type": "code",
   "execution_count": 101,
   "metadata": {},
   "outputs": [],
   "source": [
    "if __name__ == \"__main__\":    \n",
    "    train_input = Path(\"./Adobe/train\")\n",
    "    train_output = Path(\"./Adobe/train/frames\")\n",
    "    train_tmp = train_input / \"tmp\"\n",
    "    train_tmp.mkdir(parents = True, exist_ok = True)\n",
    "    extract_frames(train_input, train_tmp)\n",
    "    batch_frames(train_tmp, train_output)\n",
    "    shutil.rmtree(train_tmp)\n",
    "    \n",
    "    test_input = Path(\"./Adobe/test\")\n",
    "    test_output = Path(\"./Adobe/test/frames\")\n",
    "    test_tmp = test_input / \"tmp\"\n",
    "    test_tmp.mkdir(parents = True, exist_ok = True)\n",
    "    extract_frames(test_input, test_tmp)\n",
    "    batch_frames(test_tmp, test_output)\n",
    "    shutil.rmtree(test_tmp)\n",
    "\n",
    "    test_file = [folder for folder in test_output.glob(\"*\")]\n",
    "    sampled = random.sample(test_file, 60)\n",
    "    validation_output = Path(\"./Adobe/validation\")\n",
    "    for samples in sampled:\n",
    "        shutil.move(\"{}\".format(samples), \"{}\\{}\".format(validation_output, samples))"
   ]
  },
  {
   "cell_type": "code",
   "execution_count": 108,
   "metadata": {},
   "outputs": [],
   "source": [
    "assert len(list(train_output.glob(\"*\"))) == 303\n",
    "assert len(list(test_output.glob(\"*\"))) == 47\n",
    "assert len(list(validation_output.glob(\"*\"))) == 60"
   ]
  }
 ],
 "metadata": {
  "kernelspec": {
   "display_name": "Python [conda env:tensorflow] *",
   "language": "python",
   "name": "conda-env-tensorflow-py"
  },
  "language_info": {
   "codemirror_mode": {
    "name": "ipython",
    "version": 3
   },
   "file_extension": ".py",
   "mimetype": "text/x-python",
   "name": "python",
   "nbconvert_exporter": "python",
   "pygments_lexer": "ipython3",
   "version": "3.7.1"
  }
 },
 "nbformat": 4,
 "nbformat_minor": 4
}
