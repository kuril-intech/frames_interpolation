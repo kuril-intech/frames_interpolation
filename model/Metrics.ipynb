{
 "cells": [
  {
   "cell_type": "code",
   "execution_count": 1,
   "metadata": {},
   "outputs": [],
   "source": [
    "import tensorflow as tf"
   ]
  },
  {
   "cell_type": "code",
   "execution_count": 4,
   "metadata": {},
   "outputs": [],
   "source": [
    "@tf.function\n",
    "def compute_psnr(frames_t, predictions):\n",
    "    return tf.image.psnr(frames_t, predictions, max_val = 1.0)\n",
    "\n",
    "@tf.function\n",
    "def compute_ssim(frames_t, predictions):\n",
    "    return tf.image.ssim(frames_t, predictions, max_val = 1.0)\n",
    "\n",
    "@tf.function\n",
    "def metrics(frames_t, predictions):\n",
    "    psnr = compute_psnr(frames_t, predictions)\n",
    "    ssim = compute_ssim(frames_t, predictions)\n",
    "    return psnr, ssim"
   ]
  }
 ],
 "metadata": {
  "kernelspec": {
   "display_name": "Python 3",
   "language": "python",
   "name": "python3"
  },
  "language_info": {
   "codemirror_mode": {
    "name": "ipython",
    "version": 3
   },
   "file_extension": ".py",
   "mimetype": "text/x-python",
   "name": "python",
   "nbconvert_exporter": "python",
   "pygments_lexer": "ipython3",
   "version": "3.7.1"
  }
 },
 "nbformat": 4,
 "nbformat_minor": 4
}
