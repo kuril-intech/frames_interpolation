{
 "cells": [
  {
   "cell_type": "code",
   "execution_count": 11,
   "metadata": {},
   "outputs": [],
   "source": [
    "import tensorflow as tf\n",
    "import config"
   ]
  },
  {
   "cell_type": "markdown",
   "metadata": {},
   "source": [
    "- Reconstruction loss: How good the reconstructed intermediate frames is (MAE)\n",
    "    - $$l_r=\\frac{1}{N}\\sum_{i=1}^{N}||\\hat{I_{t_{i}}} - I_{t_{i}}||$$\n",
    "- Perceptual loss: Preserve details of predicted frames\n",
    "    - $$l_p=\\frac{1}{N}\\sum_{i=1}||\\phi\\hat{I_{t}}-\\phi I_{t}||$$\n",
    "    - Where phi denotes blockconv4_3 features of VGG16\n",
    "- Warping loss: Monitor the quality of optical flow\n",
    "    - $$\\frac{1}{N}\\sum_{i=1}^{N}||I_{t_i}-g(I_0,\\hat{F{t_{i->0}}})||+\\frac{1}{N}\\sum_{i=1}^{N}||I_{t_i}-g(I_1,\\hat{F_{t_{i->1}}})||$$\n",
    "- Smoothness loss: Encouraging neighbour pixels to have similar values\n",
    "    - $$l_s=||\\triangledown F_{0->1}|| + ||\\triangledown F_{1->0}||$$\n",
    "- $$\\triangle Loss=\\lambda_r l_r+\\lambda_p l_p+\\lambda_w l_w+\\lambda_s l_s$$\n",
    "    - $$\\lambda_r=0.8$$\n",
    "    - $$\\lambda_p=0.005$$\n",
    "    - $$\\lambda_w=0.4$$\n",
    "    - $$\\lambda_s=1$$"
   ]
  },
  {
   "cell_type": "code",
   "execution_count": 16,
   "metadata": {},
   "outputs": [],
   "source": [
    "class Loss:\n",
    "    def __init__(self):\n",
    "        self.mae = tf.keras.losses.MeanAbsoluteError()\n",
    "        self.mse = tf.keras.losses.MeanSquaredError()\n",
    "        model = tf.keras.applications.VGG16(include_top = False)\n",
    "        self.vgg16 = tf.keras.Model(model.get_layer(\"block4_conv3\").output, trainable = False)\n",
    "    \n",
    "    @tf.function\n",
    "    def reconstruction_loss(self, y_true, y_pred):\n",
    "        return self.mae(y_true, y_pred)\n",
    "    \n",
    "    @tf.function\n",
    "    def perceptual_loss(self, y_true, y_pred):\n",
    "        y_true = extract_feature(self.vgg16, y_true)\n",
    "        y_pred = extract_feature(self.vgg16, y_pred)\n",
    "        return self.mse(y_true, y_pred) #shouldn't this be MAE?\n",
    "    \n",
    "    @tf.function\n",
    "    def extract_feature(self, vgg16_model, predictions):\n",
    "        features = predictions\n",
    "        for layer in vgg16_model.layers:\n",
    "            features = layer(features)\n",
    "        return features\n",
    "    \n",
    "    @tf.function\n",
    "    def wrapping_loss(self, frame_0, frame_t, frame_1, backwarp_frames):\n",
    "        return (self.mae(frame_0, backwarp_frames[0]) +\n",
    "               self.mae(frame_1, backwarp_frames[1]) +\n",
    "               self.mae(frame_t, backwarp_frames[2]) +\n",
    "               self.mae(frame_t, backwarp_frames[3]))\n",
    "    \n",
    "    @tf.function\n",
    "    def smoothness_loss(self, f_01, f_10):\n",
    "        '''\n",
    "        f_01 denotes optical flow from frame 0 -> 1, whereas\n",
    "        f_10 denotes optical flow from frame 1 -> 0\n",
    "        '''\n",
    "        delta_f_01 = self.compute_delta(f_01)\n",
    "        delta_f_10 = self.compute_delta(f_10)\n",
    "        return delta_f_01 + delta_f_10\n",
    "    \n",
    "    @tf.function\n",
    "    def compute_delta(self, frame):\n",
    "        x = tf.reduce_mean(tf.abs(frame[:, 1:, :, :] - frame[:, :-1, :, :]))\n",
    "        y = tf.reduce_mean(tf.abs(frame[:, :, 1:, :] - frame[:, :, :-1, :]))\n",
    "        return x + y\n",
    "    \n",
    "    @tf.function\n",
    "    def total_loss(self, predictions, loss_values, inputs, frames_t):\n",
    "        frame_0, frame_1, _ = inputs\n",
    "        f_01, f_10 = loss_values[:2]\n",
    "        backwarp_frames = loss_values[2:]\n",
    "        \n",
    "        reconstruction = self.reconstruction_loss(frames_t, predictions)\n",
    "        perceptual = self.perceptual_loss(frames_t, predictions)\n",
    "        smooth = self.smoothness_loss(f_01, f_10)\n",
    "        wrap_loss = self.wrapping_loss(frame_0, frame_t, frame_1, backwarp_frames)\n",
    "        \n",
    "        delta_loss = (\n",
    "                    config.Reconstruction * (0.8 * reconstruction)\n",
    "                    + config.Perception * (0.005*perceptual)\n",
    "                    + config.Wrap * (0.4*wrap_loss)\n",
    "                    + config.Smooth * smooth\n",
    "                    ) \n",
    "        return delta_loss, 0.8 * reconstruction, 0.005 * perceptual, 0.4 * smooth, wrap_loss"
   ]
  },
  {
   "cell_type": "code",
   "execution_count": 17,
   "metadata": {},
   "outputs": [],
   "source": [
    "if __name__ == \"__main__\":\n",
    "    loss = Loss()"
   ]
  }
 ],
 "metadata": {
  "kernelspec": {
   "display_name": "Python [conda env:tensorflow]",
   "language": "python",
   "name": "conda-env-tensorflow-py"
  },
  "language_info": {
   "codemirror_mode": {
    "name": "ipython",
    "version": 3
   },
   "file_extension": ".py",
   "mimetype": "text/x-python",
   "name": "python",
   "nbconvert_exporter": "python",
   "pygments_lexer": "ipython3",
   "version": "3.7.1"
  }
 },
 "nbformat": 4,
 "nbformat_minor": 4
}
