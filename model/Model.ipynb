{
 "cells": [
  {
   "cell_type": "code",
   "execution_count": 2,
   "metadata": {},
   "outputs": [],
   "source": [
    "import tensorflow as tf\n",
    "import numpy as np "
   ]
  },
  {
   "cell_type": "code",
   "execution_count": 3,
   "metadata": {},
   "outputs": [],
   "source": [
    "import Layers"
   ]
  },
  {
   "cell_type": "code",
   "execution_count": 4,
   "metadata": {},
   "outputs": [],
   "source": [
    "class SloMo(tf.keras.Model):\n",
    "    def __init__(self, n_frames = 12, name = \"SloMoNet\", **kwargs):\n",
    "        super(SloMo, self).__init__(name = name, **kwargs)\n",
    "        self.t_slices = tf.constant(np.linspace(0, 1, n_frames))\n",
    "        self.flow_comp_layer = UNet(4, name = 'flow_comp')\n",
    "        self.optical_flow = OpticalFlow(name = 'optical_flow')\n",
    "        self.output_layer = Output(name = 'predictions')\n",
    "        self.warp_layers = [BackWarp()] * 2\n",
    "    \n",
    "    def call(self, inputs, training = False, **kwargs):\n",
    "        frames_0, frames_1, frames_i = inputs\n",
    "        \n",
    "        t_indeces = tf.gather(self.t_slices, frames_i)\n",
    "        t_indeces = tf.cast(t_indeces, dtype = tf.float32)\n",
    "        t_indeces = t_indeces[:, tf.newaxis, tf.newaxis, tf.newaxis] \n",
    "        \n",
    "        #Compute flow\n",
    "        flow_input = tf.concat([frames_0, frames_1], axis = 3)\n",
    "        flow_output = flow_comp_layer(flow_input)\n",
    "        \n",
    "        #Optical flow\n",
    "        flow_01, flow_10 = flow_output[:, :, :, :2], flow_output[:, :, :, 2:4]\n",
    "        optical_input = [frames_0, frames_1, flow_01, flow_10, t_indeces]\n",
    "        f_t0, v_t0, f_t1, v_t1, g_i0_ft0, g_i1_ft1 = self.optical_flow(optical_input)\n",
    "        \n",
    "        #Predictions\n",
    "        preds_input = [frames_0, f_t0, v_t0, frames_1, f_t1, v_t1, t_indeces]\n",
    "        predictions = self.output_layer(preds_input)\n",
    "        \n",
    "        #Backwarp\n",
    "        warp0 = self.warp_layers[1]([frames_1, flow_01])\n",
    "        warp1 = self.warp_layers[0]([frames_0, flow_10])\n",
    "        losses_output = [flow_01, flow_10, warp0, warp1, g_io_ft0, g_i1_ft1]\n",
    "        return predictions, losses_output"
   ]
  },
  {
   "cell_type": "code",
   "execution_count": 4,
   "metadata": {},
   "outputs": [],
   "source": [
    "if __name__ == \"__main__\":\n",
    "    model = SloMo()"
   ]
  }
 ],
 "metadata": {
  "kernelspec": {
   "display_name": "Python [conda env:tensorflow] *",
   "language": "python",
   "name": "conda-env-tensorflow-py"
  },
  "language_info": {
   "codemirror_mode": {
    "name": "ipython",
    "version": 3
   },
   "file_extension": ".py",
   "mimetype": "text/x-python",
   "name": "python",
   "nbconvert_exporter": "python",
   "pygments_lexer": "ipython3",
   "version": "3.7.1"
  }
 },
 "nbformat": 4,
 "nbformat_minor": 4
}
